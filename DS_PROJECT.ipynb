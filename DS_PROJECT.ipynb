{
  "nbformat": 4,
  "nbformat_minor": 0,
  "metadata": {
    "colab": {
      "provenance": [],
      "authorship_tag": "ABX9TyMeas5nOTMjXztgVieUw/6v",
      "include_colab_link": true
    },
    "kernelspec": {
      "name": "python3",
      "display_name": "Python 3"
    },
    "language_info": {
      "name": "python"
    }
  },
  "cells": [
    {
      "cell_type": "markdown",
      "metadata": {
        "id": "view-in-github",
        "colab_type": "text"
      },
      "source": [
        "<a href=\"https://colab.research.google.com/github/shivanswamynathan/Entrans/blob/main/DS_PROJECT.ipynb\" target=\"_parent\"><img src=\"https://colab.research.google.com/assets/colab-badge.svg\" alt=\"Open In Colab\"/></a>"
      ]
    },
    {
      "cell_type": "code",
      "execution_count": 63,
      "metadata": {
        "id": "aRt4hRacRJAR"
      },
      "outputs": [],
      "source": [
        "import pandas as pd\n",
        "import numpy as np\n",
        "import matplotlib.pyplot as plt\n"
      ]
    },
    {
      "cell_type": "code",
      "source": [
        "class datasethandling:\n",
        "  def __init__(self,data):\n",
        "    self.data = data\n",
        "  def dataset (self) :\n",
        "\n",
        "    df = pd.read_csv(self.data)\n",
        "    df.info()\n",
        "    df.isnull()\n",
        "\n",
        "\n",
        "\n",
        "df = datasethandling('sales_data - sales_data.csv')\n",
        "df.dataset()\n"
      ],
      "metadata": {
        "colab": {
          "base_uri": "https://localhost:8080/"
        },
        "id": "qtEN9SCKRzsj",
        "outputId": "0e42023e-378b-4730-ad54-37f149d9cec9"
      },
      "execution_count": 108,
      "outputs": [
        {
          "output_type": "stream",
          "name": "stdout",
          "text": [
            "<class 'pandas.core.frame.DataFrame'>\n",
            "RangeIndex: 113036 entries, 0 to 113035\n",
            "Data columns (total 18 columns):\n",
            " #   Column            Non-Null Count   Dtype \n",
            "---  ------            --------------   ----- \n",
            " 0   Date              113036 non-null  object\n",
            " 1   Day               113036 non-null  int64 \n",
            " 2   Month             113036 non-null  object\n",
            " 3   Year              113036 non-null  int64 \n",
            " 4   Customer_Age      113036 non-null  int64 \n",
            " 5   Age_Group         113036 non-null  object\n",
            " 6   Customer_Gender   113036 non-null  object\n",
            " 7   Country           113036 non-null  object\n",
            " 8   State             113036 non-null  object\n",
            " 9   Product_Category  113036 non-null  object\n",
            " 10  Sub_Category      113036 non-null  object\n",
            " 11  Product           113036 non-null  object\n",
            " 12  Order_Quantity    113036 non-null  int64 \n",
            " 13  Unit_Cost         113036 non-null  int64 \n",
            " 14  Unit_Price        113036 non-null  int64 \n",
            " 15  Profit            113036 non-null  int64 \n",
            " 16  Cost              113036 non-null  int64 \n",
            " 17  Revenue           113036 non-null  int64 \n",
            "dtypes: int64(9), object(9)\n",
            "memory usage: 15.5+ MB\n"
          ]
        }
      ]
    },
    {
      "cell_type": "markdown",
      "source": [
        "Dataframe"
      ],
      "metadata": {
        "id": "IG7_BvrGw4vr"
      }
    },
    {
      "cell_type": "code",
      "source": [
        "class dataFrame:\n",
        "  def __init__(self,data):\n",
        "    self.data = data\n",
        "\n",
        "  def data_frame(self):\n",
        "    df = pd.DataFrame(self.data)\n",
        "    df.isnull()\n",
        "\n",
        "df = dataFrame(data_set.dataset())\n",
        "df.data_frame()\n",
        "\n",
        "df = pd.DataFrame()\n",
        "df.isnull()"
      ],
      "metadata": {
        "colab": {
          "base_uri": "https://localhost:8080/"
        },
        "id": "xKSakjqZcY7y",
        "outputId": "82c07427-870b-4001-fe56-7bfc4be3342e"
      },
      "execution_count": 103,
      "outputs": [
        {
          "output_type": "stream",
          "name": "stdout",
          "text": [
            "<class 'pandas.core.frame.DataFrame'>\n",
            "RangeIndex: 113036 entries, 0 to 113035\n",
            "Data columns (total 18 columns):\n",
            " #   Column            Non-Null Count   Dtype \n",
            "---  ------            --------------   ----- \n",
            " 0   Date              113036 non-null  object\n",
            " 1   Day               113036 non-null  int64 \n",
            " 2   Month             113036 non-null  object\n",
            " 3   Year              113036 non-null  int64 \n",
            " 4   Customer_Age      113036 non-null  int64 \n",
            " 5   Age_Group         113036 non-null  object\n",
            " 6   Customer_Gender   113036 non-null  object\n",
            " 7   Country           113036 non-null  object\n",
            " 8   State             113036 non-null  object\n",
            " 9   Product_Category  113036 non-null  object\n",
            " 10  Sub_Category      113036 non-null  object\n",
            " 11  Product           113036 non-null  object\n",
            " 12  Order_Quantity    113036 non-null  int64 \n",
            " 13  Unit_Cost         113036 non-null  int64 \n",
            " 14  Unit_Price        113036 non-null  int64 \n",
            " 15  Profit            113036 non-null  int64 \n",
            " 16  Cost              113036 non-null  int64 \n",
            " 17  Revenue           113036 non-null  int64 \n",
            "dtypes: int64(9), object(9)\n",
            "memory usage: 15.5+ MB\n"
          ]
        }
      ]
    },
    {
      "cell_type": "markdown",
      "source": [
        "Null Values Visualization"
      ],
      "metadata": {
        "id": "K-ax8yIIxeXK"
      }
    },
    {
      "cell_type": "code",
      "source": [
        "class null_values:\n",
        "  def Visualization (self):\n",
        "    plt.figure(figsize=(3, 3))\n",
        "    plt.imshow(df.isnull(), cmap='viridis', aspect='auto', interpolation='nearest')\n",
        "    plt.title('Null Values Visualization')\n",
        "    plt.xlabel('Columns')\n",
        "    plt.ylabel('Rows')\n",
        "    plt.colorbar()\n",
        "    plt.show()\n",
        "\n",
        "obj1 = null_values()\n",
        "obj1.Visualization()\n",
        "\n",
        "\n"
      ],
      "metadata": {
        "colab": {
          "base_uri": "https://localhost:8080/",
          "height": 333
        },
        "id": "fDtJy3YDdLoF",
        "outputId": "35cb1fdb-c367-4362-fa4c-1e9957f023bd"
      },
      "execution_count": 90,
      "outputs": [
        {
          "output_type": "display_data",
          "data": {
            "text/plain": [
              "<Figure size 300x300 with 2 Axes>"
            ],
            "image/png": "[encoded data removed]"
          },
          "metadata": {}
        }
      ]
    },
    {
      "cell_type": "markdown",
      "source": [
        "Calculate summary statistics (mean, median, etc.) for numeric columns"
      ],
      "metadata": {
        "id": "VqZRJZpQldqY"
      }
    },
    {
      "cell_type": "code",
      "source": [
        "#Calculate summary statistics (mean, median, etc.) for numeric columns\n",
        "numeric_colums = df.select_dtypes(include=['number'])\n",
        "print(numeric_colums.head())"
      ],
      "metadata": {
        "colab": {
          "base_uri": "https://localhost:8080/"
        },
        "id": "RM3ShqPsec31",
        "outputId": "dd12ba60-e57d-4ea8-8970-9d3740f62be5"
      },
      "execution_count": 41,
      "outputs": [
        {
          "output_type": "stream",
          "name": "stdout",
          "text": [
            "   Day  Year  Customer_Age  Order_Quantity  Unit_Cost  Unit_Price  Profit  \\\n",
            "0   26  2013            19               8         45         120     590   \n",
            "1   26  2015            19               8         45         120     590   \n",
            "2   23  2014            49              23         45         120    1366   \n",
            "3   23  2016            49              20         45         120    1188   \n",
            "4   15  2014            47               4         45         120     238   \n",
            "\n",
            "   Cost  Revenue  \n",
            "0   360      950  \n",
            "1   360      950  \n",
            "2  1035     2401  \n",
            "3   900     2088  \n",
            "4   180      418  \n"
          ]
        }
      ]
    },
    {
      "cell_type": "code",
      "source": [
        "column = numeric_colums.iloc[:, 2:]\n",
        "mean_value = column.mean()\n",
        "median_value = column.median()\n",
        "mode_value = column.mode()\n",
        "print(f\"Mean : {mean_value}\")\n",
        "print(f\"Median : {median_value}\")\n",
        "print(f\"Mode : {mode_value}\")"
      ],
      "metadata": {
        "colab": {
          "base_uri": "https://localhost:8080/"
        },
        "id": "qC2ae49lhklg",
        "outputId": "ef79822a-6052-4da8-d59d-20bdcb843b0f"
      },
      "execution_count": 40,
      "outputs": [
        {
          "output_type": "stream",
          "name": "stdout",
          "text": [
            "Mean : Customer_Age       35.919212\n",
            "Order_Quantity     11.901660\n",
            "Unit_Cost         267.296366\n",
            "Unit_Price        452.938427\n",
            "Profit            285.051665\n",
            "Cost              469.318695\n",
            "Revenue           754.370360\n",
            "dtype: float64\n",
            "Median : Customer_Age       35.0\n",
            "Order_Quantity     10.0\n",
            "Unit_Cost           9.0\n",
            "Unit_Price         24.0\n",
            "Profit            101.0\n",
            "Cost              108.0\n",
            "Revenue           223.0\n",
            "dtype: float64\n",
            "Mode :    Customer_Age  Order_Quantity  Unit_Cost  Unit_Price  Profit  Cost  Revenue\n",
            "0            31               1          2           5       3  1252       35\n"
          ]
        }
      ]
    },
    {
      "cell_type": "markdown",
      "source": [
        "Find the total number of Product_Category, Sub_Category, Product\n",
        "\n"
      ],
      "metadata": {
        "id": "CcWjMGzdlhsn"
      }
    },
    {
      "cell_type": "code",
      "source": [
        "# Total unique values\n",
        "total_product_categories = df['Product_Category'].nunique()\n",
        "total_sub_categories = df['Sub_Category'].nunique()\n",
        "total_products = df['Product'].nunique()\n",
        "\n",
        "print(f\"Total Product Categories: {total_product_categories}\")\n",
        "print(f\"Total Sub Categories: {total_sub_categories}\")\n",
        "print(f\"Total Products: {total_products}\")\n"
      ],
      "metadata": {
        "colab": {
          "base_uri": "https://localhost:8080/"
        },
        "id": "zaB6MM3rlno3",
        "outputId": "f206a917-2750-4446-bd14-c192d108a20d"
      },
      "execution_count": 53,
      "outputs": [
        {
          "output_type": "stream",
          "name": "stdout",
          "text": [
            "Total Product Categories: 3\n",
            "Total Sub Categories: 17\n",
            "Total Products: 130\n"
          ]
        }
      ]
    },
    {
      "cell_type": "markdown",
      "source": [
        " Histogram for  Customer_Age"
      ],
      "metadata": {
        "id": "Q6RebTGpqlun"
      }
    },
    {
      "cell_type": "code",
      "source": [
        "df['Customer_Age'].hist(bins=10000, color='blue', edgecolor='black')\n",
        "plt.title(\" Customer Age\")\n",
        "plt.xlabel(\"age\")\n",
        "plt.ylabel(\"No.of people\")\n",
        "plt.show()\n"
      ],
      "metadata": {
        "colab": {
          "base_uri": "https://localhost:8080/",
          "height": 472
        },
        "id": "Q5d55I3Sqjui",
        "outputId": "732d0e0c-7ef8-4b3f-e448-8e76cd22f52d"
      },
      "execution_count": 72,
      "outputs": [
        {
          "output_type": "display_data",
          "data": {
            "text/plain": [
              "<Figure size 640x480 with 1 Axes>"
            ],
            "image/png": "[encoded data removed]"
          },
          "metadata": {}
        }
      ]
    },
    {
      "cell_type": "markdown",
      "source": [
        "visualise gender distribution\n"
      ],
      "metadata": {
        "id": "UUeu1GQcLtQD"
      }
    },
    {
      "cell_type": "code",
      "source": [
        "\n",
        "gender_counts = df['Customer_Gender'].value_counts()\n",
        "print('Gender Counts')\n",
        "print(gender_counts)\n",
        "plt.pie(gender_counts, labels=gender_counts.index, autopct='%1.0f%%')\n",
        "plt.title('Customer Gender Distribution')\n",
        "plt.show()"
      ],
      "metadata": {
        "colab": {
          "base_uri": "https://localhost:8080/",
          "height": 515
        },
        "id": "36k9nRqYJBJ_",
        "outputId": "7ce3e9cd-beca-4a72-9adc-7d759e177d6c"
      },
      "execution_count": 89,
      "outputs": [
        {
          "output_type": "stream",
          "name": "stdout",
          "text": [
            "Gender Counts\n",
            "Customer_Gender\n",
            "M    58312\n",
            "F    54724\n",
            "Name: count, dtype: int64\n"
          ]
        },
        {
          "output_type": "display_data",
          "data": {
            "text/plain": [
              "<Figure size 640x480 with 1 Axes>"
            ],
            "image/png": "[encoded data removed]"
          },
          "metadata": {}
        }
      ]
    },
    {
      "cell_type": "code",
      "source": [],
      "metadata": {
        "id": "f0sfMrWML1s0"
      },
      "execution_count": null,
      "outputs": []
    }
  ]
}